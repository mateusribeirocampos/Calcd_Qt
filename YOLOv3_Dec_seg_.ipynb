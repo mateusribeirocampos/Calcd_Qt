{
  "nbformat": 4,
  "nbformat_minor": 0,
  "metadata": {
    "colab": {
      "provenance": [],
      "gpuType": "T4",
      "authorship_tag": "ABX9TyOAXPiYIGwvFvcRXaQUivgc",
      "include_colab_link": true
    },
    "kernelspec": {
      "name": "python3",
      "display_name": "Python 3"
    },
    "language_info": {
      "name": "python"
    },
    "accelerator": "GPU"
  },
  "cells": [
    {
      "cell_type": "markdown",
      "metadata": {
        "id": "view-in-github",
        "colab_type": "text"
      },
      "source": [
        "<a href=\"https://colab.research.google.com/github/mateusribeirocampos/Calcd_Qt/blob/main/YOLOv3_Dec_seg_.ipynb\" target=\"_parent\"><img src=\"https://colab.research.google.com/assets/colab-badge.svg\" alt=\"Open In Colab\"/></a>"
      ]
    },
    {
      "cell_type": "code",
      "source": [
        "from google.colab import drive\n",
        "drive.mount('/content/gdrive')"
      ],
      "metadata": {
        "colab": {
          "base_uri": "https://localhost:8080/"
        },
        "id": "m84GVjNMVIbX",
        "outputId": "e75ee105-de4b-42f7-cc22-ccb2de835057"
      },
      "execution_count": 1,
      "outputs": [
        {
          "output_type": "stream",
          "name": "stdout",
          "text": [
            "Mounted at /content/gdrive\n"
          ]
        }
      ]
    },
    {
      "cell_type": "code",
      "execution_count": null,
      "metadata": {
        "id": "0obWMEJhTlhv"
      },
      "outputs": [],
      "source": [
        "!git clone https://github.com/AlexeyAB/darknet.git\n",
        "%cd darknet\n",
        "!make"
      ]
    },
    {
      "cell_type": "code",
      "source": [
        "!sudo apt-get install tree"
      ],
      "metadata": {
        "id": "XVfl_vs4Va56"
      },
      "execution_count": null,
      "outputs": []
    },
    {
      "cell_type": "code",
      "source": [
        "!mkdir -p /content/coco/images\n",
        "!mkdir -p /content/coco/annotations"
      ],
      "metadata": {
        "id": "OBf3tNp9V3C3"
      },
      "execution_count": null,
      "outputs": []
    },
    {
      "cell_type": "code",
      "source": [
        "# Baixar val2017 (1GB)\n",
        "!wget -c http://images.cocodataset.org/zips/val2017.zip -P /content/coco/images\n",
        "\n",
        "# Baixar test2017\n",
        "!wget -c http://images.cocodataset.org/zips/test2017.zip -P /content/coco/images"
      ],
      "metadata": {
        "id": "1LU_Obqcb2y0",
        "colab": {
          "base_uri": "https://localhost:8080/"
        },
        "outputId": "f85e47fe-ed4e-4320-e4e2-94d6be90e1bb"
      },
      "execution_count": 5,
      "outputs": [
        {
          "output_type": "stream",
          "name": "stdout",
          "text": [
            "--2025-02-15 21:52:57--  http://images.cocodataset.org/zips/val2017.zip\n",
            "Resolving images.cocodataset.org (images.cocodataset.org)... 52.216.209.81, 3.5.22.67, 16.182.73.233, ...\n",
            "Connecting to images.cocodataset.org (images.cocodataset.org)|52.216.209.81|:80... connected.\n",
            "HTTP request sent, awaiting response... 200 OK\n",
            "Length: 815585330 (778M) [application/zip]\n",
            "Saving to: ‘/content/coco/images/val2017.zip’\n",
            "\n",
            "val2017.zip         100%[===================>] 777.80M  19.1MB/s    in 43s     \n",
            "\n",
            "2025-02-15 21:53:41 (17.9 MB/s) - ‘/content/coco/images/val2017.zip’ saved [815585330/815585330]\n",
            "\n",
            "--2025-02-15 21:53:41--  http://images.cocodataset.org/zips/test2017.zip\n",
            "Resolving images.cocodataset.org (images.cocodataset.org)... 54.231.195.89, 3.5.28.57, 3.5.29.71, ...\n",
            "Connecting to images.cocodataset.org (images.cocodataset.org)|54.231.195.89|:80... connected.\n",
            "HTTP request sent, awaiting response... 200 OK\n",
            "Length: 6646970404 (6.2G) [application/zip]\n",
            "Saving to: ‘/content/coco/images/test2017.zip’\n",
            "\n",
            "test2017.zip        100%[===================>]   6.19G  17.8MB/s    in 5m 43s  \n",
            "\n",
            "2025-02-15 21:59:24 (18.5 MB/s) - ‘/content/coco/images/test2017.zip’ saved [6646970404/6646970404]\n",
            "\n"
          ]
        }
      ]
    },
    {
      "cell_type": "code",
      "source": [
        "# Criar diretório para anotações\n",
        "!mkdir -p /content/coco/annotations\n",
        "\n",
        "# Baixar anotações (train + val)\n",
        "!wget -c http://images.cocodataset.org/annotations/annotations_trainval2017.zip -P /content/coco/annotations"
      ],
      "metadata": {
        "colab": {
          "base_uri": "https://localhost:8080/"
        },
        "id": "pATPCRoLm9_B",
        "outputId": "b1673b2f-e2fd-45c2-c148-208d558b6e5d"
      },
      "execution_count": 6,
      "outputs": [
        {
          "output_type": "stream",
          "name": "stdout",
          "text": [
            "--2025-02-15 22:00:24--  http://images.cocodataset.org/annotations/annotations_trainval2017.zip\n",
            "Resolving images.cocodataset.org (images.cocodataset.org)... 16.15.217.139, 52.216.40.57, 52.216.250.196, ...\n",
            "Connecting to images.cocodataset.org (images.cocodataset.org)|16.15.217.139|:80... connected.\n",
            "HTTP request sent, awaiting response... 200 OK\n",
            "Length: 252907541 (241M) [application/zip]\n",
            "Saving to: ‘/content/coco/annotations/annotations_trainval2017.zip’\n",
            "\n",
            "annotations_trainva 100%[===================>] 241.19M  20.5MB/s    in 13s     \n",
            "\n",
            "2025-02-15 22:00:38 (18.2 MB/s) - ‘/content/coco/annotations/annotations_trainval2017.zip’ saved [252907541/252907541]\n",
            "\n"
          ]
        }
      ]
    },
    {
      "cell_type": "code",
      "source": [
        "!unzip /content/coco/images/val2017.zip -d /content/coco/images\n",
        "!rm /content/coco/images/val2017.zip\n",
        "\n",
        "!unzip /content/coco/images/test2017.zip -d /content/coco/images\n",
        "!rm /content/coco/images/test2017.zip"
      ],
      "metadata": {
        "id": "PEMYHLIrmTvb"
      },
      "execution_count": null,
      "outputs": []
    },
    {
      "cell_type": "code",
      "source": [
        "# Baixar imagens de treino (18GB)\n",
        "!wget -c http://images.cocodataset.org/zips/train2017.zip -P /content/coco/images"
      ],
      "metadata": {
        "colab": {
          "base_uri": "https://localhost:8080/"
        },
        "id": "xSsGvDHmXu0T",
        "outputId": "0427ce60-7cd6-4b50-afed-e5bf2fbc17da"
      },
      "execution_count": 8,
      "outputs": [
        {
          "output_type": "stream",
          "name": "stdout",
          "text": [
            "--2025-02-15 22:03:54--  http://images.cocodataset.org/zips/train2017.zip\n",
            "Resolving images.cocodataset.org (images.cocodataset.org)... 52.217.200.201, 52.217.203.89, 52.216.206.251, ...\n",
            "Connecting to images.cocodataset.org (images.cocodataset.org)|52.217.200.201|:80... connected.\n",
            "HTTP request sent, awaiting response... 200 OK\n",
            "Length: 19336861798 (18G) [application/zip]\n",
            "Saving to: ‘/content/coco/images/train2017.zip’\n",
            "\n",
            "train2017.zip       100%[===================>]  18.01G  20.0MB/s    in 16m 35s \n",
            "\n",
            "2025-02-15 22:20:29 (18.5 MB/s) - ‘/content/coco/images/train2017.zip’ saved [19336861798/19336861798]\n",
            "\n"
          ]
        }
      ]
    },
    {
      "cell_type": "code",
      "source": [
        "# Descompactar imagens\n",
        "!unzip /content/coco/images/train2017.zip -d /content/coco/images\n",
        "!rm /content/coco/images/train2017.zip\n",
        "\n",
        "# Descompactar anotações\n",
        "!unzip /content/coco/annotations/annotations_trainval2017.zip -d /content/coco/annotations\n",
        "!rm /content/coco/annotations/annotations_trainval2017.zip"
      ],
      "metadata": {
        "id": "HXB5jQcTaxHu"
      },
      "execution_count": null,
      "outputs": []
    },
    {
      "cell_type": "code",
      "source": [
        "# Mova todos os JSONs para /content/coco/annotations/\n",
        "!mv /content/coco/annotations/annotations/*.json /content/coco/annotations/\n",
        "!rm -rf /content/coco/annotations/annotations  # Delete a subpasta vazia"
      ],
      "metadata": {
        "id": "nXUDlwJtt1l_"
      },
      "execution_count": 12,
      "outputs": []
    },
    {
      "cell_type": "code",
      "source": [
        "!ls /content/coco/annotations/"
      ],
      "metadata": {
        "colab": {
          "base_uri": "https://localhost:8080/"
        },
        "id": "1s4GTMRmgCIS",
        "outputId": "fa77ec49-c557-4d86-d657-39f2edf378fb"
      },
      "execution_count": 13,
      "outputs": [
        {
          "output_type": "stream",
          "name": "stdout",
          "text": [
            "captions_train2017.json  instances_train2017.json  person_keypoints_train2017.json\n",
            "captions_val2017.json\t instances_val2017.json    person_keypoints_val2017.json\n"
          ]
        }
      ]
    },
    {
      "cell_type": "code",
      "source": [
        "!tree -d /content/coco/"
      ],
      "metadata": {
        "colab": {
          "base_uri": "https://localhost:8080/"
        },
        "id": "kb8ZwgnzorK5",
        "outputId": "85e3d5fd-8249-4999-fa43-0925bb3ec48e"
      },
      "execution_count": 14,
      "outputs": [
        {
          "output_type": "stream",
          "name": "stdout",
          "text": [
            "\u001b[01;34m/content/coco/\u001b[0m\n",
            "├── \u001b[01;34mannotations\u001b[0m\n",
            "└── \u001b[01;34mimages\u001b[0m\n",
            "    ├── \u001b[01;34mtest2017\u001b[0m\n",
            "    ├── \u001b[01;34mtrain2017\u001b[0m\n",
            "    └── \u001b[01;34mval2017\u001b[0m\n",
            "\n",
            "5 directories\n"
          ]
        }
      ]
    },
    {
      "cell_type": "code",
      "source": [
        "!tree -d /content/coco/images/"
      ],
      "metadata": {
        "colab": {
          "base_uri": "https://localhost:8080/"
        },
        "id": "kHTC3e5YuWvw",
        "outputId": "259ada1b-d1e8-42de-db38-e7dbad3cd97f"
      },
      "execution_count": 17,
      "outputs": [
        {
          "output_type": "stream",
          "name": "stdout",
          "text": [
            "\u001b[01;34m/content/coco/images/\u001b[0m\n",
            "├── \u001b[01;34mtest2017\u001b[0m\n",
            "├── \u001b[01;34mtrain2017\u001b[0m\n",
            "└── \u001b[01;34mval2017\u001b[0m\n",
            "\n",
            "3 directories\n"
          ]
        }
      ]
    },
    {
      "cell_type": "code",
      "source": [
        "import os\n",
        "import shutil\n",
        "from pycocotools.coco import COCO\n",
        "\n",
        "def process_coco_split(splits: list, categories: list, max_samples_per_split: int = None):\n",
        "    \"\"\"\n",
        "    Processa splits do COCO (train, val, test), filtrando por categorias e convertendo para YOLO.\n",
        "    \"\"\"\n",
        "    # Criar diretório principal\n",
        "    os.makedirs('/content/coco/filtered/', exist_ok=True)\n",
        "\n",
        "    # Criar arquivo de classes\n",
        "    with open('/content/coco/filtered/obj.names', 'w') as f:\n",
        "        for cat in categories:\n",
        "            f.write(cat + '\\n')\n",
        "\n",
        "    for split in splits:\n",
        "        print(f\"\\nProcessando split: {split}\")\n",
        "\n",
        "        # Caminhos das imagens\n",
        "        img_source_dir = f'/content/coco/images/{split}2017'\n",
        "        img_dest_dir = f'/content/coco/filtered/{split}/images'\n",
        "        os.makedirs(img_dest_dir, exist_ok=True)\n",
        "\n",
        "        # Processar apenas train/val (test não tem anotações)\n",
        "        if split != 'test':\n",
        "            # Carregar anotações\n",
        "            coco = COCO(f'/content/coco/annotations/instances_{split}2017.json')\n",
        "            cat_ids = coco.getCatIds(catNms=categories)\n",
        "            img_ids = coco.getImgIds(catIds=cat_ids)\n",
        "\n",
        "            # Limitar amostras se especificado\n",
        "            if max_samples_per_split:\n",
        "                img_ids = img_ids[:max_samples_per_split]\n",
        "\n",
        "            images = coco.loadImgs(img_ids)\n",
        "\n",
        "            # Copiar imagens\n",
        "            for img in images:\n",
        "                src = os.path.join(img_source_dir, img['file_name'])\n",
        "                dst = os.path.join(img_dest_dir, img['file_name'])\n",
        "                shutil.copy(src, dst)\n",
        "\n",
        "            # Criar diretório de labels\n",
        "            ann_dest_dir = f'/content/coco/filtered/{split}/labels'\n",
        "            os.makedirs(ann_dest_dir, exist_ok=True)\n",
        "\n",
        "            # Converter anotações para YOLO\n",
        "            for img in images:\n",
        "                ann_ids = coco.getAnnIds(imgIds=img['id'], catIds=cat_ids)\n",
        "                annotations = coco.loadAnns(ann_ids)\n",
        "\n",
        "                label_path = os.path.join(ann_dest_dir, img['file_name'].replace('.jpg', '.txt'))\n",
        "                with open(label_path, 'w') as f:\n",
        "                    for ann in annotations:\n",
        "                        x, y, w, h = ann['bbox']\n",
        "                        img_w, img_h = img['width'], img['height']\n",
        "\n",
        "                        cx = (x + w/2) / img_w\n",
        "                        cy = (y + h/2) / img_h\n",
        "                        nw = w / img_w\n",
        "                        nh = h / img_h\n",
        "\n",
        "                        class_id = categories.index(coco.loadCats(ann['category_id'])[0]['name'])\n",
        "                        f.write(f\"{class_id} {cx:.6f} {cy:.6f} {nw:.6f} {nh:.6f}\\n\")\n",
        "\n",
        "        # Processar test (sem anotações)\n",
        "        else:\n",
        "            # Listar todas as imagens do diretório test2017\n",
        "            images = [{'file_name': f} for f in os.listdir(img_source_dir)]\n",
        "            if max_samples_per_split:\n",
        "                images = images[:max_samples_per_split]\n",
        "\n",
        "            # Copiar imagens\n",
        "            for img in images:\n",
        "                src = os.path.join(img_source_dir, img['file_name'])\n",
        "                dst = os.path.join(img_dest_dir, img['file_name'])\n",
        "                shutil.copy(src, dst)\n",
        "\n",
        "# Uso\n",
        "process_coco_split(\n",
        "    splits=['train', 'val', 'test'],\n",
        "    categories=['boat', 'person'],\n",
        "    max_samples_per_split=100\n",
        ")"
      ],
      "metadata": {
        "colab": {
          "base_uri": "https://localhost:8080/"
        },
        "id": "5KkwWlCNdKk_",
        "outputId": "23bfcf28-b8d8-4092-cc80-a29cb89f0541"
      },
      "execution_count": 15,
      "outputs": [
        {
          "output_type": "stream",
          "name": "stdout",
          "text": [
            "\n",
            "Processando split: train\n",
            "loading annotations into memory...\n",
            "Done (t=20.65s)\n",
            "creating index...\n",
            "index created!\n",
            "\n",
            "Processando split: val\n",
            "loading annotations into memory...\n",
            "Done (t=0.66s)\n",
            "creating index...\n",
            "index created!\n",
            "\n",
            "Processando split: test\n"
          ]
        }
      ]
    },
    {
      "cell_type": "code",
      "source": [
        "!wget https://pjreddie.com/media/files/yolov3.weights"
      ],
      "metadata": {
        "colab": {
          "base_uri": "https://localhost:8080/"
        },
        "id": "WdkVSZXUiGNF",
        "outputId": "3274b233-f98b-479d-de98-16c7725d0ea8"
      },
      "execution_count": 16,
      "outputs": [
        {
          "output_type": "stream",
          "name": "stdout",
          "text": [
            "--2025-02-15 22:26:42--  https://pjreddie.com/media/files/yolov3.weights\n",
            "Resolving pjreddie.com (pjreddie.com)... 162.0.215.52\n",
            "Connecting to pjreddie.com (pjreddie.com)|162.0.215.52|:443... connected.\n",
            "HTTP request sent, awaiting response... 200 OK\n",
            "Length: 248007048 (237M) [application/octet-stream]\n",
            "Saving to: ‘yolov3.weights’\n",
            "\n",
            "yolov3.weights      100%[===================>] 236.52M  18.9MB/s    in 14s     \n",
            "\n",
            "2025-02-15 22:26:56 (17.2 MB/s) - ‘yolov3.weights’ saved [248007048/248007048]\n",
            "\n"
          ]
        }
      ]
    },
    {
      "cell_type": "code",
      "source": [
        "!ls"
      ],
      "metadata": {
        "colab": {
          "base_uri": "https://localhost:8080/"
        },
        "id": "C200_GyniY6O",
        "outputId": "e7506d2a-21c0-4233-9f87-9a8ae9fef020"
      },
      "execution_count": 18,
      "outputs": [
        {
          "output_type": "stream",
          "name": "stdout",
          "text": [
            "3rdparty\tdarknet\t\t\tDockerfile.cpu\t       Makefile       scripts\n",
            "backup\t\tDarknetConfig.cmake.in\tDockerfile.gpu\t       net_cam_v3.sh  src\n",
            "build\t\tdarknet_images.py\timage_yolov3.sh        net_cam_v4.sh  vcpkg.json\n",
            "build.ps1\tdarknet.py\t\timage_yolov4.sh        obj\t      video_yolov3.sh\n",
            "cfg\t\tdarknet_video.py\tinclude\t\t       package.xml    video_yolov4.sh\n",
            "cmake\t\tdata\t\t\tjson_mjpeg_streams.sh  README.md      yolov3.weights\n",
            "CMakeLists.txt\tdocker-compose.yml\tLICENSE\t\t       results\n"
          ]
        }
      ]
    },
    {
      "cell_type": "code",
      "source": [],
      "metadata": {
        "id": "J6gD6lItiq-L"
      },
      "execution_count": null,
      "outputs": []
    }
  ]
}